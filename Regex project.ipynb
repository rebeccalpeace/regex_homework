{
 "cells": [
  {
   "cell_type": "code",
   "execution_count": 3,
   "id": "274c5e4a",
   "metadata": {},
   "outputs": [],
   "source": [
    "import re"
   ]
  },
  {
   "cell_type": "code",
   "execution_count": 5,
   "id": "d3d215f5",
   "metadata": {},
   "outputs": [
    {
     "name": "stdout",
     "output_type": "stream",
     "text": [
      "Abraham Lincoln\n",
      "Andrew P Garfield\n",
      "Connor Milliken\n",
      "Jordan Alexander Williams\n",
      "Madonna\n",
      "programming is cool\n",
      "\n",
      "['Abraham Lincoln\\n', 'Andrew P Garfield\\n', 'Connor Milliken\\n', 'Jordan Alexander Williams\\n', 'Madonna\\n', 'programming is cool\\n']\n"
     ]
    }
   ],
   "source": [
    "with open('regex_test.txt') as file:\n",
    "    str_data = file.read()\n",
    "    \n",
    "with open('regex_test.txt') as file:\n",
    "    list_data = file.readlines()\n",
    "    \n",
    "print(str_data)\n",
    "print(list_data)"
   ]
  },
  {
   "cell_type": "code",
   "execution_count": 30,
   "id": "7c60a6a6",
   "metadata": {},
   "outputs": [],
   "source": [
    "names_pattern = re.compile(r\"\"\"\n",
    "    ^(?P<first>[A-Z][a-z]*)\\s(?P<middle>([A-Z]?[a-z]*))\\s?(?P<last>[A-Z][a-z]*)$\n",
    "\"\"\", re.M|re.X)"
   ]
  },
  {
   "cell_type": "code",
   "execution_count": 84,
   "id": "238cd8a9",
   "metadata": {},
   "outputs": [
    {
     "name": "stdout",
     "output_type": "stream",
     "text": [
      "<re.Match object; span=(0, 15), match='Abraham Lincoln'>\n",
      "Lincoln\n"
     ]
    }
   ],
   "source": [
    "names_match = names_pattern.match(str_data)\n",
    "print(names_match)\n",
    "\n",
    "print(names_match.group('last'))"
   ]
  },
  {
   "cell_type": "code",
   "execution_count": 85,
   "id": "18af37fb",
   "metadata": {},
   "outputs": [
    {
     "name": "stdout",
     "output_type": "stream",
     "text": [
      "Lincoln\n",
      "Garfield\n",
      "Milliken\n",
      "Williams\n"
     ]
    }
   ],
   "source": [
    "names_pattern = re.compile(r\"\"\"\n",
    "    ^(?P<first>[A-Z][a-z]*)\\s(?P<middle>([A-Z]?[a-z]*))\\s?(?P<last>[A-Z][a-z]*)$\n",
    "\"\"\", re.M|re.X)\n",
    "\n",
    "\n",
    "\n",
    "for match in names_pattern.finditer(str_data):\n",
    "    if match.group('last'):\n",
    "        print(match.group('last'))\n",
    "    else:\n",
    "        print(None)\n",
    "    \n",
    "    \n",
    "# print(match.group('last'))\n",
    "        \n",
    "# cannot get to print None for last two names"
   ]
  },
  {
   "cell_type": "code",
   "execution_count": null,
   "id": "e5ed9063",
   "metadata": {},
   "outputs": [],
   "source": []
  }
 ],
 "metadata": {
  "kernelspec": {
   "display_name": "Python 3 (ipykernel)",
   "language": "python",
   "name": "python3"
  },
  "language_info": {
   "codemirror_mode": {
    "name": "ipython",
    "version": 3
   },
   "file_extension": ".py",
   "mimetype": "text/x-python",
   "name": "python",
   "nbconvert_exporter": "python",
   "pygments_lexer": "ipython3",
   "version": "3.9.12"
  }
 },
 "nbformat": 4,
 "nbformat_minor": 5
}
